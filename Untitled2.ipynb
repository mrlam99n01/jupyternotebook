{
 "cells": [
  {
   "cell_type": "code",
   "execution_count": 13,
   "metadata": {},
   "outputs": [],
   "source": [
    "import torch "
   ]
  },
  {
   "cell_type": "code",
   "execution_count": 6,
   "metadata": {},
   "outputs": [
    {
     "name": "stdout",
     "output_type": "stream",
     "text": [
      "tensor([2.1395, 1.3849, 1.3501], requires_grad=True)\n"
     ]
    },
    {
     "data": {
      "text/plain": [
       "tensor([4.1395, 3.3849, 3.3501], grad_fn=<AddBackward0>)"
      ]
     },
     "execution_count": 6,
     "metadata": {},
     "output_type": "execute_result"
    }
   ],
   "source": [
    "x = torch.randn(3,requires_grad=True)\n",
    "print(x)\n",
    "x+2"
   ]
  },
  {
   "cell_type": "code",
   "execution_count": 18,
   "metadata": {},
   "outputs": [
    {
     "name": "stdout",
     "output_type": "stream",
     "text": [
      "tensor([3., 3., 3., 3.])\n",
      "tensor([6., 6., 6., 6.])\n",
      "tensor([9., 9., 9., 9.])\n"
     ]
    }
   ],
   "source": [
    "weights = torch.ones(4,requires_grad = True)\n",
    "\n",
    "for eporch in range(3):\n",
    "    model_output = (weights*3).sum()\n",
    "    model_output.backward()\n",
    "    print(weights.grad)"
   ]
  },
  {
   "cell_type": "code",
   "execution_count": 10,
   "metadata": {},
   "outputs": [
    {
     "name": "stdout",
     "output_type": "stream",
     "text": [
      "[0. 0. 0. 0.]\n",
      "eporch : 1  weights:  1.2000 loss : 30.0\n",
      "eporch : 2  weights:  1.6800 loss : 4.799999\n",
      "eporch : 3  weights:  1.8720 loss : 0.7680002\n",
      "eporch : 4  weights:  1.9488 loss : 0.12288\n",
      "eporch : 5  weights:  1.9795 loss : 0.019660834\n",
      "eporch : 6  weights:  1.9918 loss : 0.0031457357\n",
      "eporch : 7  weights:  1.9967 loss : 0.000503308\n",
      "eporch : 8  weights:  1.9987 loss : 8.053186e-05\n",
      "eporch : 9  weights:  1.9995 loss : 1.2884395e-05\n",
      "eporch : 10  weights:  1.9998 loss : 2.0613531e-06\n",
      "eporch : 11  weights:  1.9999 loss : 3.29734e-07\n",
      "eporch : 12  weights:  2.0000 loss : 5.2823452e-08\n",
      "eporch : 13  weights:  2.0000 loss : 8.487817e-09\n",
      "eporch : 14  weights:  2.0000 loss : 1.3369572e-09\n",
      "eporch : 15  weights:  2.0000 loss : 2.1679014e-10\n",
      "eporch : 16  weights:  2.0000 loss : 3.5313974e-11\n",
      "eporch : 17  weights:  2.0000 loss : 5.076828e-12\n",
      "eporch : 18  weights:  2.0000 loss : 8.9883656e-13\n",
      "eporch : 19  weights:  2.0000 loss : 1.314504e-13\n",
      "eporch : 20  weights:  2.0000 loss : 1.314504e-13\n",
      "prediction  9.999999976158142\n"
     ]
    }
   ],
   "source": [
    "import numpy as np\n",
    "X = np.array([1,2,3,4],dtype=np.float32)\n",
    "Y = np.array([2,4,6,8],dtype=np.float32)\n",
    "w =0.0\n",
    "# f = w*x\n",
    "# f = 2*x\n",
    "\n",
    "def forward(x):\n",
    "    return w*x\n",
    "print(forward(X*w))\n",
    "\n",
    "def loss(y,y_predicted):\n",
    "    return ((y_predicted-y)**2).mean()\n",
    "def gradient(x,y,y_predicted):\n",
    "    return np.dot(2*x,y_predicted-y).mean()\n",
    "\n",
    "learning_rate = 0.01\n",
    "inter = 20\n",
    "for epoch in range(inter):\n",
    "    y_pred = forward(X)\n",
    "    l = loss(Y,y_pred)\n",
    "    dw = gradient(X,Y,y_pred)\n",
    "    w -= learning_rate*dw\n",
    "    print('eporch :',epoch+1,' weights: ',f'{w:.4f}' ,'loss :', l )\n",
    "\n",
    "\n",
    "print('prediction ',forward(5))\n",
    "    "
   ]
  },
  {
   "cell_type": "code",
   "execution_count": 16,
   "metadata": {},
   "outputs": [
    {
     "name": "stdout",
     "output_type": "stream",
     "text": [
      "tensor([0., 0., 0., 0.], grad_fn=<MulBackward0>)\n",
      "eporch : 1  weights:  0.3000 loss : tensor(31.5000, grad_fn=<MeanBackward0>)\n",
      "eporch : 2  weights:  0.5550 loss : tensor(23.1750, grad_fn=<MeanBackward0>)\n",
      "eporch : 3  weights:  0.7717 loss : tensor(17.1602, grad_fn=<MeanBackward0>)\n",
      "eporch : 4  weights:  0.9560 loss : tensor(12.8145, grad_fn=<MeanBackward0>)\n",
      "eporch : 5  weights:  1.1126 loss : tensor(9.6747, grad_fn=<MeanBackward0>)\n",
      "eporch : 6  weights:  1.2457 loss : tensor(7.4062, grad_fn=<MeanBackward0>)\n",
      "eporch : 7  weights:  1.3588 loss : tensor(5.7673, grad_fn=<MeanBackward0>)\n",
      "eporch : 8  weights:  1.4550 loss : tensor(4.5831, grad_fn=<MeanBackward0>)\n",
      "eporch : 9  weights:  1.5368 loss : tensor(3.7275, grad_fn=<MeanBackward0>)\n",
      "eporch : 10  weights:  1.6063 loss : tensor(3.1094, grad_fn=<MeanBackward0>)\n",
      "eporch : 11  weights:  1.6653 loss : tensor(2.6628, grad_fn=<MeanBackward0>)\n",
      "eporch : 12  weights:  1.7155 loss : tensor(2.3401, grad_fn=<MeanBackward0>)\n",
      "eporch : 13  weights:  1.7582 loss : tensor(2.1070, grad_fn=<MeanBackward0>)\n",
      "eporch : 14  weights:  1.7945 loss : tensor(1.9385, grad_fn=<MeanBackward0>)\n",
      "eporch : 15  weights:  1.8253 loss : tensor(1.8168, grad_fn=<MeanBackward0>)\n",
      "eporch : 16  weights:  1.8515 loss : tensor(1.7289, grad_fn=<MeanBackward0>)\n",
      "eporch : 17  weights:  1.8738 loss : tensor(1.6654, grad_fn=<MeanBackward0>)\n",
      "eporch : 18  weights:  1.8927 loss : tensor(1.6195, grad_fn=<MeanBackward0>)\n",
      "eporch : 19  weights:  1.9088 loss : tensor(1.5863, grad_fn=<MeanBackward0>)\n",
      "eporch : 20  weights:  1.9225 loss : tensor(1.5624, grad_fn=<MeanBackward0>)\n"
     ]
    }
   ],
   "source": [
    "X = torch.tensor([1,2,3,4],dtype=torch.float32)\n",
    "Y = torch.tensor([4,5,6,7],dtype=torch.float32)\n",
    "w = torch.tensor(0.0, dtype=torch.float32,requires_grad=True)\n",
    "def forward(x):\n",
    "    return w*x\n",
    "print(forward(X*w))\n",
    "\n",
    "def loss(y,y_predicted):\n",
    "    return ((y_predicted-y)**2).mean()\n",
    "def gradient(x,y,y_predicted):\n",
    "    return np.dot(2*x,y_predicted-y).mean()\n",
    "\n",
    "loss = nn.MSELoss()\n",
    "learning_rate = 0.01\n",
    "inter = 20\n",
    "for epoch in range(inter):\n",
    "    y_pred = forward(X)\n",
    "    l = loss(Y,y_pred)\n",
    "    l.backward()\n",
    "    with torch.no_grad():\n",
    "        w -= learning_rate*w.grad\n",
    "    w.grad.zero_()\n",
    "    \n",
    "    print('eporch :',epoch+1,' weights: ',f'{w:.4f}' ,'loss :', l )\n"
   ]
  },
  {
   "cell_type": "code",
   "execution_count": null,
   "metadata": {},
   "outputs": [],
   "source": []
  },
  {
   "cell_type": "code",
   "execution_count": null,
   "metadata": {},
   "outputs": [],
   "source": []
  }
 ],
 "metadata": {
  "kernelspec": {
   "display_name": "Python 3",
   "language": "python",
   "name": "python3"
  },
  "language_info": {
   "codemirror_mode": {
    "name": "ipython",
    "version": 3
   },
   "file_extension": ".py",
   "mimetype": "text/x-python",
   "name": "python",
   "nbconvert_exporter": "python",
   "pygments_lexer": "ipython3",
   "version": "3.7.5"
  }
 },
 "nbformat": 4,
 "nbformat_minor": 4
}
